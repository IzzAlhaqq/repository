{
 "cells": [
  {
   "cell_type": "code",
   "execution_count": 1,
   "id": "aeaa3e0d-f557-4599-8525-30594a5353b7",
   "metadata": {},
   "outputs": [
    {
     "name": "stdout",
     "output_type": "stream",
     "text": [
      "The density is 8.895706\n"
     ]
    }
   ],
   "source": [
    "density = 14.5/1.63\n",
    "print(\"The density is %f\" %density)"
   ]
  },
  {
   "cell_type": "code",
   "execution_count": 2,
   "id": "ef19c967-6d21-4920-be18-2884f8a6e76f",
   "metadata": {},
   "outputs": [
    {
     "name": "stdout",
     "output_type": "stream",
     "text": [
      "The density is 8.90\n"
     ]
    }
   ],
   "source": [
    "mass = 14.5\n",
    "volume = 1.63\n",
    "density = mass/volume\n",
    "print(\"The density is %.2f\" % density)"
   ]
  }
 ],
 "metadata": {
  "kernelspec": {
   "display_name": "Python 3 (ipykernel)",
   "language": "python",
   "name": "python3"
  },
  "language_info": {
   "codemirror_mode": {
    "name": "ipython",
    "version": 3
   },
   "file_extension": ".py",
   "mimetype": "text/x-python",
   "name": "python",
   "nbconvert_exporter": "python",
   "pygments_lexer": "ipython3",
   "version": "3.11.3"
  }
 },
 "nbformat": 4,
 "nbformat_minor": 5
}
